{
  "nbformat": 4,
  "nbformat_minor": 0,
  "metadata": {
    "colab": {
      "name": "Antonio_Montorfano1.ipynb",
      "provenance": [],
      "mount_file_id": "1wmduJODpyXAXPFXHv3LjQYJxEnBUqlnP",
      "authorship_tag": "ABX9TyMmbT8YdKM80VAuSkkIKii3"
    },
    "kernelspec": {
      "name": "python3",
      "display_name": "Python 3"
    }
  },
  "cells": [
    {
      "cell_type": "markdown",
      "metadata": {
        "id": "ek6DypY3V7KL"
      },
      "source": [
        "# Importando Bibliotecas e Dados"
      ]
    },
    {
      "cell_type": "code",
      "metadata": {
        "id": "RvTXU7FvnkGa"
      },
      "source": [
        "import numpy as np\n",
        "import pandas as pd\n",
        "import matplotlib.pyplot as plt\n",
        "import seaborn as sns "
      ],
      "execution_count": 86,
      "outputs": []
    },
    {
      "cell_type": "code",
      "metadata": {
        "id": "9GawLe2ZpYOX"
      },
      "source": [
        "dados = pd.read_csv(\"/content/drive/MyDrive/data science/covid.csv\", encoding=\"utf-8\")"
      ],
      "execution_count": 87,
      "outputs": []
    },
    {
      "cell_type": "markdown",
      "metadata": {
        "id": "oGgRp9pgWP5L"
      },
      "source": [
        "# Observando e tratando os dados"
      ]
    },
    {
      "cell_type": "code",
      "metadata": {
        "id": "gYF43hLlw3aY",
        "colab": {
          "base_uri": "https://localhost:8080/",
          "height": 309
        },
        "outputId": "e6a59a20-832c-44e5-a61f-de1486875483"
      },
      "source": [
        "dados.head()"
      ],
      "execution_count": 88,
      "outputs": [
        {
          "output_type": "execute_result",
          "data": {
            "text/html": [
              "<div>\n",
              "<style scoped>\n",
              "    .dataframe tbody tr th:only-of-type {\n",
              "        vertical-align: middle;\n",
              "    }\n",
              "\n",
              "    .dataframe tbody tr th {\n",
              "        vertical-align: top;\n",
              "    }\n",
              "\n",
              "    .dataframe thead th {\n",
              "        text-align: right;\n",
              "    }\n",
              "</style>\n",
              "<table border=\"1\" class=\"dataframe\">\n",
              "  <thead>\n",
              "    <tr style=\"text-align: right;\">\n",
              "      <th></th>\n",
              "      <th>date</th>\n",
              "      <th>state</th>\n",
              "      <th>city</th>\n",
              "      <th>place_type</th>\n",
              "      <th>confirmed</th>\n",
              "      <th>deaths</th>\n",
              "      <th>order_for_place</th>\n",
              "      <th>is_last</th>\n",
              "      <th>estimated_population_2019</th>\n",
              "      <th>estimated_population</th>\n",
              "      <th>city_ibge_code</th>\n",
              "      <th>confirmed_per_100k_inhabitants</th>\n",
              "      <th>death_rate</th>\n",
              "    </tr>\n",
              "  </thead>\n",
              "  <tbody>\n",
              "    <tr>\n",
              "      <th>0</th>\n",
              "      <td>2020-11-05</td>\n",
              "      <td>AC</td>\n",
              "      <td>NaN</td>\n",
              "      <td>state</td>\n",
              "      <td>31248</td>\n",
              "      <td>697</td>\n",
              "      <td>234</td>\n",
              "      <td>True</td>\n",
              "      <td>881935.0000</td>\n",
              "      <td>894470.0000</td>\n",
              "      <td>12.0000</td>\n",
              "      <td>3493.4654</td>\n",
              "      <td>0.0223</td>\n",
              "    </tr>\n",
              "    <tr>\n",
              "      <th>1</th>\n",
              "      <td>2020-11-04</td>\n",
              "      <td>AC</td>\n",
              "      <td>NaN</td>\n",
              "      <td>state</td>\n",
              "      <td>31218</td>\n",
              "      <td>696</td>\n",
              "      <td>233</td>\n",
              "      <td>False</td>\n",
              "      <td>881935.0000</td>\n",
              "      <td>894470.0000</td>\n",
              "      <td>12.0000</td>\n",
              "      <td>3490.1115</td>\n",
              "      <td>0.0223</td>\n",
              "    </tr>\n",
              "    <tr>\n",
              "      <th>2</th>\n",
              "      <td>2020-11-03</td>\n",
              "      <td>AC</td>\n",
              "      <td>NaN</td>\n",
              "      <td>state</td>\n",
              "      <td>30962</td>\n",
              "      <td>695</td>\n",
              "      <td>232</td>\n",
              "      <td>False</td>\n",
              "      <td>881935.0000</td>\n",
              "      <td>894470.0000</td>\n",
              "      <td>12.0000</td>\n",
              "      <td>3461.4912</td>\n",
              "      <td>0.0224</td>\n",
              "    </tr>\n",
              "    <tr>\n",
              "      <th>3</th>\n",
              "      <td>2020-11-02</td>\n",
              "      <td>AC</td>\n",
              "      <td>NaN</td>\n",
              "      <td>state</td>\n",
              "      <td>30954</td>\n",
              "      <td>693</td>\n",
              "      <td>231</td>\n",
              "      <td>False</td>\n",
              "      <td>881935.0000</td>\n",
              "      <td>894470.0000</td>\n",
              "      <td>12.0000</td>\n",
              "      <td>3460.5968</td>\n",
              "      <td>0.0224</td>\n",
              "    </tr>\n",
              "    <tr>\n",
              "      <th>4</th>\n",
              "      <td>2020-11-01</td>\n",
              "      <td>AC</td>\n",
              "      <td>NaN</td>\n",
              "      <td>state</td>\n",
              "      <td>30951</td>\n",
              "      <td>693</td>\n",
              "      <td>230</td>\n",
              "      <td>False</td>\n",
              "      <td>881935.0000</td>\n",
              "      <td>894470.0000</td>\n",
              "      <td>12.0000</td>\n",
              "      <td>3460.2614</td>\n",
              "      <td>0.0224</td>\n",
              "    </tr>\n",
              "  </tbody>\n",
              "</table>\n",
              "</div>"
            ],
            "text/plain": [
              "         date state  ... confirmed_per_100k_inhabitants death_rate\n",
              "0  2020-11-05    AC  ...                      3493.4654     0.0223\n",
              "1  2020-11-04    AC  ...                      3490.1115     0.0223\n",
              "2  2020-11-03    AC  ...                      3461.4912     0.0224\n",
              "3  2020-11-02    AC  ...                      3460.5968     0.0224\n",
              "4  2020-11-01    AC  ...                      3460.2614     0.0224\n",
              "\n",
              "[5 rows x 13 columns]"
            ]
          },
          "metadata": {
            "tags": []
          },
          "execution_count": 88
        }
      ]
    },
    {
      "cell_type": "code",
      "metadata": {
        "id": "aEXHmEROw5pv",
        "colab": {
          "base_uri": "https://localhost:8080/",
          "height": 317
        },
        "outputId": "c49b219d-2aee-4dff-8572-18aeded236f2"
      },
      "source": [
        "dados.describe()"
      ],
      "execution_count": 89,
      "outputs": [
        {
          "output_type": "execute_result",
          "data": {
            "text/html": [
              "<div>\n",
              "<style scoped>\n",
              "    .dataframe tbody tr th:only-of-type {\n",
              "        vertical-align: middle;\n",
              "    }\n",
              "\n",
              "    .dataframe tbody tr th {\n",
              "        vertical-align: top;\n",
              "    }\n",
              "\n",
              "    .dataframe thead th {\n",
              "        text-align: right;\n",
              "    }\n",
              "</style>\n",
              "<table border=\"1\" class=\"dataframe\">\n",
              "  <thead>\n",
              "    <tr style=\"text-align: right;\">\n",
              "      <th></th>\n",
              "      <th>confirmed</th>\n",
              "      <th>deaths</th>\n",
              "      <th>order_for_place</th>\n",
              "      <th>estimated_population_2019</th>\n",
              "      <th>estimated_population</th>\n",
              "      <th>city_ibge_code</th>\n",
              "      <th>confirmed_per_100k_inhabitants</th>\n",
              "      <th>death_rate</th>\n",
              "    </tr>\n",
              "  </thead>\n",
              "  <tbody>\n",
              "    <tr>\n",
              "      <th>count</th>\n",
              "      <td>936870.0000</td>\n",
              "      <td>936870.0000</td>\n",
              "      <td>936870.0000</td>\n",
              "      <td>933215.0000</td>\n",
              "      <td>933215.0000</td>\n",
              "      <td>933215.0000</td>\n",
              "      <td>919888.0000</td>\n",
              "      <td>936870.0000</td>\n",
              "    </tr>\n",
              "    <tr>\n",
              "      <th>mean</th>\n",
              "      <td>1063.5806</td>\n",
              "      <td>34.9950</td>\n",
              "      <td>87.4946</td>\n",
              "      <td>99649.7807</td>\n",
              "      <td>100419.5364</td>\n",
              "      <td>3187880.2802</td>\n",
              "      <td>1025.4835</td>\n",
              "      <td>0.0358</td>\n",
              "    </tr>\n",
              "    <tr>\n",
              "      <th>std</th>\n",
              "      <td>13372.7341</td>\n",
              "      <td>508.0618</td>\n",
              "      <td>53.3992</td>\n",
              "      <td>1038472.3204</td>\n",
              "      <td>1046044.5021</td>\n",
              "      <td>1003370.5158</td>\n",
              "      <td>1349.5477</td>\n",
              "      <td>0.0938</td>\n",
              "    </tr>\n",
              "    <tr>\n",
              "      <th>min</th>\n",
              "      <td>0.0000</td>\n",
              "      <td>0.0000</td>\n",
              "      <td>1.0000</td>\n",
              "      <td>781.0000</td>\n",
              "      <td>776.0000</td>\n",
              "      <td>11.0000</td>\n",
              "      <td>0.0022</td>\n",
              "      <td>0.0000</td>\n",
              "    </tr>\n",
              "    <tr>\n",
              "      <th>25%</th>\n",
              "      <td>11.0000</td>\n",
              "      <td>0.0000</td>\n",
              "      <td>42.0000</td>\n",
              "      <td>6169.0000</td>\n",
              "      <td>6171.0000</td>\n",
              "      <td>2505279.0000</td>\n",
              "      <td>114.7813</td>\n",
              "      <td>0.0000</td>\n",
              "    </tr>\n",
              "    <tr>\n",
              "      <th>50%</th>\n",
              "      <td>58.0000</td>\n",
              "      <td>1.0000</td>\n",
              "      <td>84.0000</td>\n",
              "      <td>13649.0000</td>\n",
              "      <td>13742.0000</td>\n",
              "      <td>3138708.0000</td>\n",
              "      <td>550.2462</td>\n",
              "      <td>0.0145</td>\n",
              "    </tr>\n",
              "    <tr>\n",
              "      <th>75%</th>\n",
              "      <td>253.0000</td>\n",
              "      <td>5.0000</td>\n",
              "      <td>128.0000</td>\n",
              "      <td>30407.0000</td>\n",
              "      <td>30747.0000</td>\n",
              "      <td>4112306.0000</td>\n",
              "      <td>1431.0494</td>\n",
              "      <td>0.0349</td>\n",
              "    </tr>\n",
              "    <tr>\n",
              "      <th>max</th>\n",
              "      <td>1125936.0000</td>\n",
              "      <td>39717.0000</td>\n",
              "      <td>253.0000</td>\n",
              "      <td>45919049.0000</td>\n",
              "      <td>46289333.0000</td>\n",
              "      <td>5300108.0000</td>\n",
              "      <td>22358.3663</td>\n",
              "      <td>1.0000</td>\n",
              "    </tr>\n",
              "  </tbody>\n",
              "</table>\n",
              "</div>"
            ],
            "text/plain": [
              "         confirmed      deaths  ...  confirmed_per_100k_inhabitants  death_rate\n",
              "count  936870.0000 936870.0000  ...                     919888.0000 936870.0000\n",
              "mean     1063.5806     34.9950  ...                       1025.4835      0.0358\n",
              "std     13372.7341    508.0618  ...                       1349.5477      0.0938\n",
              "min         0.0000      0.0000  ...                          0.0022      0.0000\n",
              "25%        11.0000      0.0000  ...                        114.7813      0.0000\n",
              "50%        58.0000      1.0000  ...                        550.2462      0.0145\n",
              "75%       253.0000      5.0000  ...                       1431.0494      0.0349\n",
              "max   1125936.0000  39717.0000  ...                      22358.3663      1.0000\n",
              "\n",
              "[8 rows x 8 columns]"
            ]
          },
          "metadata": {
            "tags": []
          },
          "execution_count": 89
        }
      ]
    },
    {
      "cell_type": "markdown",
      "metadata": {
        "id": "VABgKdMXx8O3"
      },
      "source": [
        "* Vou tirar a notação científica e botar 4 casas decimais (para nao perder precisão)"
      ]
    },
    {
      "cell_type": "code",
      "metadata": {
        "id": "AeFchKURx4gc"
      },
      "source": [
        "pd.options.display.float_format = \"{:.4f}\".format"
      ],
      "execution_count": 90,
      "outputs": []
    },
    {
      "cell_type": "code",
      "metadata": {
        "id": "DT0u72BFyJ8c",
        "colab": {
          "base_uri": "https://localhost:8080/",
          "height": 317
        },
        "outputId": "a16d9405-b24c-4e74-cbc1-d5ee358455a5"
      },
      "source": [
        "dados.describe()"
      ],
      "execution_count": 91,
      "outputs": [
        {
          "output_type": "execute_result",
          "data": {
            "text/html": [
              "<div>\n",
              "<style scoped>\n",
              "    .dataframe tbody tr th:only-of-type {\n",
              "        vertical-align: middle;\n",
              "    }\n",
              "\n",
              "    .dataframe tbody tr th {\n",
              "        vertical-align: top;\n",
              "    }\n",
              "\n",
              "    .dataframe thead th {\n",
              "        text-align: right;\n",
              "    }\n",
              "</style>\n",
              "<table border=\"1\" class=\"dataframe\">\n",
              "  <thead>\n",
              "    <tr style=\"text-align: right;\">\n",
              "      <th></th>\n",
              "      <th>confirmed</th>\n",
              "      <th>deaths</th>\n",
              "      <th>order_for_place</th>\n",
              "      <th>estimated_population_2019</th>\n",
              "      <th>estimated_population</th>\n",
              "      <th>city_ibge_code</th>\n",
              "      <th>confirmed_per_100k_inhabitants</th>\n",
              "      <th>death_rate</th>\n",
              "    </tr>\n",
              "  </thead>\n",
              "  <tbody>\n",
              "    <tr>\n",
              "      <th>count</th>\n",
              "      <td>936870.0000</td>\n",
              "      <td>936870.0000</td>\n",
              "      <td>936870.0000</td>\n",
              "      <td>933215.0000</td>\n",
              "      <td>933215.0000</td>\n",
              "      <td>933215.0000</td>\n",
              "      <td>919888.0000</td>\n",
              "      <td>936870.0000</td>\n",
              "    </tr>\n",
              "    <tr>\n",
              "      <th>mean</th>\n",
              "      <td>1063.5806</td>\n",
              "      <td>34.9950</td>\n",
              "      <td>87.4946</td>\n",
              "      <td>99649.7807</td>\n",
              "      <td>100419.5364</td>\n",
              "      <td>3187880.2802</td>\n",
              "      <td>1025.4835</td>\n",
              "      <td>0.0358</td>\n",
              "    </tr>\n",
              "    <tr>\n",
              "      <th>std</th>\n",
              "      <td>13372.7341</td>\n",
              "      <td>508.0618</td>\n",
              "      <td>53.3992</td>\n",
              "      <td>1038472.3204</td>\n",
              "      <td>1046044.5021</td>\n",
              "      <td>1003370.5158</td>\n",
              "      <td>1349.5477</td>\n",
              "      <td>0.0938</td>\n",
              "    </tr>\n",
              "    <tr>\n",
              "      <th>min</th>\n",
              "      <td>0.0000</td>\n",
              "      <td>0.0000</td>\n",
              "      <td>1.0000</td>\n",
              "      <td>781.0000</td>\n",
              "      <td>776.0000</td>\n",
              "      <td>11.0000</td>\n",
              "      <td>0.0022</td>\n",
              "      <td>0.0000</td>\n",
              "    </tr>\n",
              "    <tr>\n",
              "      <th>25%</th>\n",
              "      <td>11.0000</td>\n",
              "      <td>0.0000</td>\n",
              "      <td>42.0000</td>\n",
              "      <td>6169.0000</td>\n",
              "      <td>6171.0000</td>\n",
              "      <td>2505279.0000</td>\n",
              "      <td>114.7813</td>\n",
              "      <td>0.0000</td>\n",
              "    </tr>\n",
              "    <tr>\n",
              "      <th>50%</th>\n",
              "      <td>58.0000</td>\n",
              "      <td>1.0000</td>\n",
              "      <td>84.0000</td>\n",
              "      <td>13649.0000</td>\n",
              "      <td>13742.0000</td>\n",
              "      <td>3138708.0000</td>\n",
              "      <td>550.2462</td>\n",
              "      <td>0.0145</td>\n",
              "    </tr>\n",
              "    <tr>\n",
              "      <th>75%</th>\n",
              "      <td>253.0000</td>\n",
              "      <td>5.0000</td>\n",
              "      <td>128.0000</td>\n",
              "      <td>30407.0000</td>\n",
              "      <td>30747.0000</td>\n",
              "      <td>4112306.0000</td>\n",
              "      <td>1431.0494</td>\n",
              "      <td>0.0349</td>\n",
              "    </tr>\n",
              "    <tr>\n",
              "      <th>max</th>\n",
              "      <td>1125936.0000</td>\n",
              "      <td>39717.0000</td>\n",
              "      <td>253.0000</td>\n",
              "      <td>45919049.0000</td>\n",
              "      <td>46289333.0000</td>\n",
              "      <td>5300108.0000</td>\n",
              "      <td>22358.3663</td>\n",
              "      <td>1.0000</td>\n",
              "    </tr>\n",
              "  </tbody>\n",
              "</table>\n",
              "</div>"
            ],
            "text/plain": [
              "         confirmed      deaths  ...  confirmed_per_100k_inhabitants  death_rate\n",
              "count  936870.0000 936870.0000  ...                     919888.0000 936870.0000\n",
              "mean     1063.5806     34.9950  ...                       1025.4835      0.0358\n",
              "std     13372.7341    508.0618  ...                       1349.5477      0.0938\n",
              "min         0.0000      0.0000  ...                          0.0022      0.0000\n",
              "25%        11.0000      0.0000  ...                        114.7813      0.0000\n",
              "50%        58.0000      1.0000  ...                        550.2462      0.0145\n",
              "75%       253.0000      5.0000  ...                       1431.0494      0.0349\n",
              "max   1125936.0000  39717.0000  ...                      22358.3663      1.0000\n",
              "\n",
              "[8 rows x 8 columns]"
            ]
          },
          "metadata": {
            "tags": []
          },
          "execution_count": 91
        }
      ]
    },
    {
      "cell_type": "code",
      "metadata": {
        "id": "9IPHwWAFym9T",
        "colab": {
          "base_uri": "https://localhost:8080/"
        },
        "outputId": "9a2b4e15-0eae-4abc-bccd-7331aa0926b9"
      },
      "source": [
        "dados.info()"
      ],
      "execution_count": 92,
      "outputs": [
        {
          "output_type": "stream",
          "text": [
            "<class 'pandas.core.frame.DataFrame'>\n",
            "RangeIndex: 936870 entries, 0 to 936869\n",
            "Data columns (total 13 columns):\n",
            " #   Column                          Non-Null Count   Dtype  \n",
            "---  ------                          --------------   -----  \n",
            " 0   date                            936870 non-null  object \n",
            " 1   state                           936870 non-null  object \n",
            " 2   city                            930535 non-null  object \n",
            " 3   place_type                      936870 non-null  object \n",
            " 4   confirmed                       936870 non-null  int64  \n",
            " 5   deaths                          936870 non-null  int64  \n",
            " 6   order_for_place                 936870 non-null  int64  \n",
            " 7   is_last                         936870 non-null  bool   \n",
            " 8   estimated_population_2019       933215 non-null  float64\n",
            " 9   estimated_population            933215 non-null  float64\n",
            " 10  city_ibge_code                  933215 non-null  float64\n",
            " 11  confirmed_per_100k_inhabitants  919888 non-null  float64\n",
            " 12  death_rate                      936870 non-null  float64\n",
            "dtypes: bool(1), float64(5), int64(3), object(4)\n",
            "memory usage: 86.7+ MB\n"
          ],
          "name": "stdout"
        }
      ]
    },
    {
      "cell_type": "markdown",
      "metadata": {
        "id": "FnMKdeGA05Zq"
      },
      "source": [
        "* Analisando as informações, vemos que tem dados faltando para as colunas \"city\", \"estimated_population_2019\", \"estimated_population\", \"city_ibge_code\" e \"confirmed_per_100k_inhabitants\"\n",
        "  - Checando a documentação do dataset, vi que quando a coluna \"city\" está em branco, a informação é referente ao estado"
      ]
    },
    {
      "cell_type": "markdown",
      "metadata": {
        "id": "1FyoCFlo1WAv"
      },
      "source": [
        "* **Visto que meu objetivo é estudar os estados do sudeste, \n",
        "vou excluir as colunas de cidade e a coluna \"place_type\" também, pois será desnecessária**"
      ]
    },
    {
      "cell_type": "code",
      "metadata": {
        "id": "swwvvslx1T0u"
      },
      "source": [
        "dados.drop([\"city\",\"place_type\"], axis=1, inplace=True)"
      ],
      "execution_count": 93,
      "outputs": []
    },
    {
      "cell_type": "code",
      "metadata": {
        "id": "1UQhr1YP0wlv",
        "colab": {
          "base_uri": "https://localhost:8080/"
        },
        "outputId": "4b366816-6ea0-4f76-9be9-27b142762118"
      },
      "source": [
        "dados.info()"
      ],
      "execution_count": 94,
      "outputs": [
        {
          "output_type": "stream",
          "text": [
            "<class 'pandas.core.frame.DataFrame'>\n",
            "RangeIndex: 936870 entries, 0 to 936869\n",
            "Data columns (total 11 columns):\n",
            " #   Column                          Non-Null Count   Dtype  \n",
            "---  ------                          --------------   -----  \n",
            " 0   date                            936870 non-null  object \n",
            " 1   state                           936870 non-null  object \n",
            " 2   confirmed                       936870 non-null  int64  \n",
            " 3   deaths                          936870 non-null  int64  \n",
            " 4   order_for_place                 936870 non-null  int64  \n",
            " 5   is_last                         936870 non-null  bool   \n",
            " 6   estimated_population_2019       933215 non-null  float64\n",
            " 7   estimated_population            933215 non-null  float64\n",
            " 8   city_ibge_code                  933215 non-null  float64\n",
            " 9   confirmed_per_100k_inhabitants  919888 non-null  float64\n",
            " 10  death_rate                      936870 non-null  float64\n",
            "dtypes: bool(1), float64(5), int64(3), object(2)\n",
            "memory usage: 72.4+ MB\n"
          ],
          "name": "stdout"
        }
      ]
    },
    {
      "cell_type": "markdown",
      "metadata": {
        "id": "ccpnmepr4Rpa"
      },
      "source": [
        "* Vou excluir \"estimated_population_2019\" pois tem valores desatualizados, segundo a documentação"
      ]
    },
    {
      "cell_type": "code",
      "metadata": {
        "id": "_xuAsP-H4DGh"
      },
      "source": [
        "dados.drop([\"estimated_population_2019\"], axis=1, inplace=True)"
      ],
      "execution_count": 95,
      "outputs": []
    },
    {
      "cell_type": "markdown",
      "metadata": {
        "id": "ilCBdEba4pFB"
      },
      "source": [
        "* \"city_ibge_code\" também"
      ]
    },
    {
      "cell_type": "code",
      "metadata": {
        "id": "Ec2ppVkE4gWm"
      },
      "source": [
        "dados.drop([\"city_ibge_code\"], axis=1, inplace=True)"
      ],
      "execution_count": 96,
      "outputs": []
    },
    {
      "cell_type": "code",
      "metadata": {
        "id": "92F3D6Py4yRD",
        "colab": {
          "base_uri": "https://localhost:8080/"
        },
        "outputId": "b1cb01b1-54ae-40eb-ce43-7e7ebe6c024a"
      },
      "source": [
        "dados.info()"
      ],
      "execution_count": 97,
      "outputs": [
        {
          "output_type": "stream",
          "text": [
            "<class 'pandas.core.frame.DataFrame'>\n",
            "RangeIndex: 936870 entries, 0 to 936869\n",
            "Data columns (total 9 columns):\n",
            " #   Column                          Non-Null Count   Dtype  \n",
            "---  ------                          --------------   -----  \n",
            " 0   date                            936870 non-null  object \n",
            " 1   state                           936870 non-null  object \n",
            " 2   confirmed                       936870 non-null  int64  \n",
            " 3   deaths                          936870 non-null  int64  \n",
            " 4   order_for_place                 936870 non-null  int64  \n",
            " 5   is_last                         936870 non-null  bool   \n",
            " 6   estimated_population            933215 non-null  float64\n",
            " 7   confirmed_per_100k_inhabitants  919888 non-null  float64\n",
            " 8   death_rate                      936870 non-null  float64\n",
            "dtypes: bool(1), float64(3), int64(3), object(2)\n",
            "memory usage: 58.1+ MB\n"
          ],
          "name": "stdout"
        }
      ]
    },
    {
      "cell_type": "markdown",
      "metadata": {
        "id": "VhgYpi1S59Y5"
      },
      "source": [
        "* Vou apagar a  coluna \"confirmed_per_100k_inhabitants\" pois, apesar de ser uma boa informação, tem valores faltantes e eu posso extrair esse tipo de informação através das outras colunas"
      ]
    },
    {
      "cell_type": "code",
      "metadata": {
        "id": "qC53uxUs5AgT"
      },
      "source": [
        "dados.drop(\"confirmed_per_100k_inhabitants\", axis = 1, inplace=True)"
      ],
      "execution_count": 98,
      "outputs": []
    },
    {
      "cell_type": "code",
      "metadata": {
        "id": "zTfC_uue6hzD",
        "colab": {
          "base_uri": "https://localhost:8080/"
        },
        "outputId": "a5e978e3-d4e6-4c00-97d3-0aaa144bf4b8"
      },
      "source": [
        "dados.info()"
      ],
      "execution_count": 99,
      "outputs": [
        {
          "output_type": "stream",
          "text": [
            "<class 'pandas.core.frame.DataFrame'>\n",
            "RangeIndex: 936870 entries, 0 to 936869\n",
            "Data columns (total 8 columns):\n",
            " #   Column                Non-Null Count   Dtype  \n",
            "---  ------                --------------   -----  \n",
            " 0   date                  936870 non-null  object \n",
            " 1   state                 936870 non-null  object \n",
            " 2   confirmed             936870 non-null  int64  \n",
            " 3   deaths                936870 non-null  int64  \n",
            " 4   order_for_place       936870 non-null  int64  \n",
            " 5   is_last               936870 non-null  bool   \n",
            " 6   estimated_population  933215 non-null  float64\n",
            " 7   death_rate            936870 non-null  float64\n",
            "dtypes: bool(1), float64(2), int64(3), object(2)\n",
            "memory usage: 50.9+ MB\n"
          ],
          "name": "stdout"
        }
      ]
    },
    {
      "cell_type": "code",
      "metadata": {
        "id": "9BUrIcP96ixi",
        "colab": {
          "base_uri": "https://localhost:8080/",
          "height": 419
        },
        "outputId": "b5e65e09-15ef-4fca-87c3-96a2b92ce4ed"
      },
      "source": [
        "dados[dados[\"estimated_population\"].isnull()]"
      ],
      "execution_count": 100,
      "outputs": [
        {
          "output_type": "execute_result",
          "data": {
            "text/html": [
              "<div>\n",
              "<style scoped>\n",
              "    .dataframe tbody tr th:only-of-type {\n",
              "        vertical-align: middle;\n",
              "    }\n",
              "\n",
              "    .dataframe tbody tr th {\n",
              "        vertical-align: top;\n",
              "    }\n",
              "\n",
              "    .dataframe thead th {\n",
              "        text-align: right;\n",
              "    }\n",
              "</style>\n",
              "<table border=\"1\" class=\"dataframe\">\n",
              "  <thead>\n",
              "    <tr style=\"text-align: right;\">\n",
              "      <th></th>\n",
              "      <th>date</th>\n",
              "      <th>state</th>\n",
              "      <th>confirmed</th>\n",
              "      <th>deaths</th>\n",
              "      <th>order_for_place</th>\n",
              "      <th>is_last</th>\n",
              "      <th>estimated_population</th>\n",
              "      <th>death_rate</th>\n",
              "    </tr>\n",
              "  </thead>\n",
              "  <tbody>\n",
              "    <tr>\n",
              "      <th>26192</th>\n",
              "      <td>2020-11-02</td>\n",
              "      <td>AL</td>\n",
              "      <td>8</td>\n",
              "      <td>8</td>\n",
              "      <td>219</td>\n",
              "      <td>True</td>\n",
              "      <td>nan</td>\n",
              "      <td>1.0000</td>\n",
              "    </tr>\n",
              "    <tr>\n",
              "      <th>26193</th>\n",
              "      <td>2020-11-01</td>\n",
              "      <td>AL</td>\n",
              "      <td>8</td>\n",
              "      <td>8</td>\n",
              "      <td>218</td>\n",
              "      <td>False</td>\n",
              "      <td>nan</td>\n",
              "      <td>1.0000</td>\n",
              "    </tr>\n",
              "    <tr>\n",
              "      <th>26194</th>\n",
              "      <td>2020-10-31</td>\n",
              "      <td>AL</td>\n",
              "      <td>8</td>\n",
              "      <td>8</td>\n",
              "      <td>217</td>\n",
              "      <td>False</td>\n",
              "      <td>nan</td>\n",
              "      <td>1.0000</td>\n",
              "    </tr>\n",
              "    <tr>\n",
              "      <th>26195</th>\n",
              "      <td>2020-10-30</td>\n",
              "      <td>AL</td>\n",
              "      <td>8</td>\n",
              "      <td>8</td>\n",
              "      <td>216</td>\n",
              "      <td>False</td>\n",
              "      <td>nan</td>\n",
              "      <td>1.0000</td>\n",
              "    </tr>\n",
              "    <tr>\n",
              "      <th>26196</th>\n",
              "      <td>2020-10-29</td>\n",
              "      <td>AL</td>\n",
              "      <td>8</td>\n",
              "      <td>8</td>\n",
              "      <td>215</td>\n",
              "      <td>False</td>\n",
              "      <td>nan</td>\n",
              "      <td>1.0000</td>\n",
              "    </tr>\n",
              "    <tr>\n",
              "      <th>...</th>\n",
              "      <td>...</td>\n",
              "      <td>...</td>\n",
              "      <td>...</td>\n",
              "      <td>...</td>\n",
              "      <td>...</td>\n",
              "      <td>...</td>\n",
              "      <td>...</td>\n",
              "      <td>...</td>\n",
              "    </tr>\n",
              "    <tr>\n",
              "      <th>863547</th>\n",
              "      <td>2020-03-23</td>\n",
              "      <td>SP</td>\n",
              "      <td>0</td>\n",
              "      <td>0</td>\n",
              "      <td>5</td>\n",
              "      <td>False</td>\n",
              "      <td>nan</td>\n",
              "      <td>0.0000</td>\n",
              "    </tr>\n",
              "    <tr>\n",
              "      <th>863548</th>\n",
              "      <td>2020-03-22</td>\n",
              "      <td>SP</td>\n",
              "      <td>0</td>\n",
              "      <td>0</td>\n",
              "      <td>4</td>\n",
              "      <td>False</td>\n",
              "      <td>nan</td>\n",
              "      <td>0.0000</td>\n",
              "    </tr>\n",
              "    <tr>\n",
              "      <th>863549</th>\n",
              "      <td>2020-03-21</td>\n",
              "      <td>SP</td>\n",
              "      <td>0</td>\n",
              "      <td>0</td>\n",
              "      <td>3</td>\n",
              "      <td>False</td>\n",
              "      <td>nan</td>\n",
              "      <td>0.0000</td>\n",
              "    </tr>\n",
              "    <tr>\n",
              "      <th>863550</th>\n",
              "      <td>2020-03-20</td>\n",
              "      <td>SP</td>\n",
              "      <td>8</td>\n",
              "      <td>0</td>\n",
              "      <td>2</td>\n",
              "      <td>False</td>\n",
              "      <td>nan</td>\n",
              "      <td>0.0000</td>\n",
              "    </tr>\n",
              "    <tr>\n",
              "      <th>863551</th>\n",
              "      <td>2020-03-19</td>\n",
              "      <td>SP</td>\n",
              "      <td>4</td>\n",
              "      <td>0</td>\n",
              "      <td>1</td>\n",
              "      <td>False</td>\n",
              "      <td>nan</td>\n",
              "      <td>0.0000</td>\n",
              "    </tr>\n",
              "  </tbody>\n",
              "</table>\n",
              "<p>3655 rows × 8 columns</p>\n",
              "</div>"
            ],
            "text/plain": [
              "              date state  confirmed  ...  is_last  estimated_population  death_rate\n",
              "26192   2020-11-02    AL          8  ...     True                   nan      1.0000\n",
              "26193   2020-11-01    AL          8  ...    False                   nan      1.0000\n",
              "26194   2020-10-31    AL          8  ...    False                   nan      1.0000\n",
              "26195   2020-10-30    AL          8  ...    False                   nan      1.0000\n",
              "26196   2020-10-29    AL          8  ...    False                   nan      1.0000\n",
              "...            ...   ...        ...  ...      ...                   ...         ...\n",
              "863547  2020-03-23    SP          0  ...    False                   nan      0.0000\n",
              "863548  2020-03-22    SP          0  ...    False                   nan      0.0000\n",
              "863549  2020-03-21    SP          0  ...    False                   nan      0.0000\n",
              "863550  2020-03-20    SP          8  ...    False                   nan      0.0000\n",
              "863551  2020-03-19    SP          4  ...    False                   nan      0.0000\n",
              "\n",
              "[3655 rows x 8 columns]"
            ]
          },
          "metadata": {
            "tags": []
          },
          "execution_count": 100
        }
      ]
    },
    {
      "cell_type": "markdown",
      "metadata": {
        "id": "6jpA_KoWyijE"
      },
      "source": [
        "* Antes de decidir o que fazer com a coluna \"estimated_population\", vou apagar todos os outros estados fora do sudeste"
      ]
    },
    {
      "cell_type": "code",
      "metadata": {
        "id": "4Y-_ypLYx0ay"
      },
      "source": [
        "sudeste = [\"RJ\", \"MG\", \"ES\", \"SP\"]"
      ],
      "execution_count": 101,
      "outputs": []
    },
    {
      "cell_type": "markdown",
      "metadata": {
        "id": "81kgOLX4zIiw"
      },
      "source": [
        "* Vou criar uma coluna para identificar as linhas do sudeste"
      ]
    },
    {
      "cell_type": "code",
      "metadata": {
        "id": "xeslR0-18n6w"
      },
      "source": [
        "regiao = []\n",
        "for i in range(len(dados)):\n",
        "  if dados[\"state\"][i] in sudeste:\n",
        "    regiao.append(\"Sudeste\")\n",
        "  else:\n",
        "    regiao.append(\"outro\")"
      ],
      "execution_count": 102,
      "outputs": []
    },
    {
      "cell_type": "code",
      "metadata": {
        "id": "B0eL2Yo9vCBq"
      },
      "source": [
        "dados[\"regiao\"] = regiao"
      ],
      "execution_count": 103,
      "outputs": []
    },
    {
      "cell_type": "code",
      "metadata": {
        "id": "T0oGNcgsysmy"
      },
      "source": [
        "dadossudeste = dados[dados[\"regiao\"] == \"Sudeste\"]"
      ],
      "execution_count": 104,
      "outputs": []
    },
    {
      "cell_type": "code",
      "metadata": {
        "id": "xm-JH2Syy_6t",
        "colab": {
          "base_uri": "https://localhost:8080/",
          "height": 419
        },
        "outputId": "9aef12db-c8e3-4ea8-9500-e5075b9470c7"
      },
      "source": [
        "dadossudeste"
      ],
      "execution_count": 105,
      "outputs": [
        {
          "output_type": "execute_result",
          "data": {
            "text/html": [
              "<div>\n",
              "<style scoped>\n",
              "    .dataframe tbody tr th:only-of-type {\n",
              "        vertical-align: middle;\n",
              "    }\n",
              "\n",
              "    .dataframe tbody tr th {\n",
              "        vertical-align: top;\n",
              "    }\n",
              "\n",
              "    .dataframe thead th {\n",
              "        text-align: right;\n",
              "    }\n",
              "</style>\n",
              "<table border=\"1\" class=\"dataframe\">\n",
              "  <thead>\n",
              "    <tr style=\"text-align: right;\">\n",
              "      <th></th>\n",
              "      <th>date</th>\n",
              "      <th>state</th>\n",
              "      <th>confirmed</th>\n",
              "      <th>deaths</th>\n",
              "      <th>order_for_place</th>\n",
              "      <th>is_last</th>\n",
              "      <th>estimated_population</th>\n",
              "      <th>death_rate</th>\n",
              "      <th>regiao</th>\n",
              "    </tr>\n",
              "  </thead>\n",
              "  <tbody>\n",
              "    <tr>\n",
              "      <th>76251</th>\n",
              "      <td>2020-11-05</td>\n",
              "      <td>ES</td>\n",
              "      <td>159813</td>\n",
              "      <td>3896</td>\n",
              "      <td>245</td>\n",
              "      <td>True</td>\n",
              "      <td>4064052.0000</td>\n",
              "      <td>0.0244</td>\n",
              "      <td>Sudeste</td>\n",
              "    </tr>\n",
              "    <tr>\n",
              "      <th>76252</th>\n",
              "      <td>2020-11-04</td>\n",
              "      <td>ES</td>\n",
              "      <td>158768</td>\n",
              "      <td>3884</td>\n",
              "      <td>244</td>\n",
              "      <td>False</td>\n",
              "      <td>4064052.0000</td>\n",
              "      <td>0.0245</td>\n",
              "      <td>Sudeste</td>\n",
              "    </tr>\n",
              "    <tr>\n",
              "      <th>76253</th>\n",
              "      <td>2020-11-03</td>\n",
              "      <td>ES</td>\n",
              "      <td>157750</td>\n",
              "      <td>3876</td>\n",
              "      <td>243</td>\n",
              "      <td>False</td>\n",
              "      <td>4064052.0000</td>\n",
              "      <td>0.0246</td>\n",
              "      <td>Sudeste</td>\n",
              "    </tr>\n",
              "    <tr>\n",
              "      <th>76254</th>\n",
              "      <td>2020-11-02</td>\n",
              "      <td>ES</td>\n",
              "      <td>156681</td>\n",
              "      <td>3863</td>\n",
              "      <td>242</td>\n",
              "      <td>False</td>\n",
              "      <td>4064052.0000</td>\n",
              "      <td>0.0247</td>\n",
              "      <td>Sudeste</td>\n",
              "    </tr>\n",
              "    <tr>\n",
              "      <th>76255</th>\n",
              "      <td>2020-11-01</td>\n",
              "      <td>ES</td>\n",
              "      <td>156018</td>\n",
              "      <td>3862</td>\n",
              "      <td>241</td>\n",
              "      <td>False</td>\n",
              "      <td>4064052.0000</td>\n",
              "      <td>0.0248</td>\n",
              "      <td>Sudeste</td>\n",
              "    </tr>\n",
              "    <tr>\n",
              "      <th>...</th>\n",
              "      <td>...</td>\n",
              "      <td>...</td>\n",
              "      <td>...</td>\n",
              "      <td>...</td>\n",
              "      <td>...</td>\n",
              "      <td>...</td>\n",
              "      <td>...</td>\n",
              "      <td>...</td>\n",
              "      <td>...</td>\n",
              "    </tr>\n",
              "    <tr>\n",
              "      <th>936865</th>\n",
              "      <td>2020-06-23</td>\n",
              "      <td>SP</td>\n",
              "      <td>1</td>\n",
              "      <td>0</td>\n",
              "      <td>5</td>\n",
              "      <td>False</td>\n",
              "      <td>2471.0000</td>\n",
              "      <td>0.0000</td>\n",
              "      <td>Sudeste</td>\n",
              "    </tr>\n",
              "    <tr>\n",
              "      <th>936866</th>\n",
              "      <td>2020-06-22</td>\n",
              "      <td>SP</td>\n",
              "      <td>1</td>\n",
              "      <td>0</td>\n",
              "      <td>4</td>\n",
              "      <td>False</td>\n",
              "      <td>2471.0000</td>\n",
              "      <td>0.0000</td>\n",
              "      <td>Sudeste</td>\n",
              "    </tr>\n",
              "    <tr>\n",
              "      <th>936867</th>\n",
              "      <td>2020-06-21</td>\n",
              "      <td>SP</td>\n",
              "      <td>1</td>\n",
              "      <td>0</td>\n",
              "      <td>3</td>\n",
              "      <td>False</td>\n",
              "      <td>2471.0000</td>\n",
              "      <td>0.0000</td>\n",
              "      <td>Sudeste</td>\n",
              "    </tr>\n",
              "    <tr>\n",
              "      <th>936868</th>\n",
              "      <td>2020-06-20</td>\n",
              "      <td>SP</td>\n",
              "      <td>1</td>\n",
              "      <td>0</td>\n",
              "      <td>2</td>\n",
              "      <td>False</td>\n",
              "      <td>2471.0000</td>\n",
              "      <td>0.0000</td>\n",
              "      <td>Sudeste</td>\n",
              "    </tr>\n",
              "    <tr>\n",
              "      <th>936869</th>\n",
              "      <td>2020-06-19</td>\n",
              "      <td>SP</td>\n",
              "      <td>1</td>\n",
              "      <td>0</td>\n",
              "      <td>1</td>\n",
              "      <td>False</td>\n",
              "      <td>2471.0000</td>\n",
              "      <td>0.0000</td>\n",
              "      <td>Sudeste</td>\n",
              "    </tr>\n",
              "  </tbody>\n",
              "</table>\n",
              "<p>276220 rows × 9 columns</p>\n",
              "</div>"
            ],
            "text/plain": [
              "              date state  confirmed  ...  estimated_population  death_rate   regiao\n",
              "76251   2020-11-05    ES     159813  ...          4064052.0000      0.0244  Sudeste\n",
              "76252   2020-11-04    ES     158768  ...          4064052.0000      0.0245  Sudeste\n",
              "76253   2020-11-03    ES     157750  ...          4064052.0000      0.0246  Sudeste\n",
              "76254   2020-11-02    ES     156681  ...          4064052.0000      0.0247  Sudeste\n",
              "76255   2020-11-01    ES     156018  ...          4064052.0000      0.0248  Sudeste\n",
              "...            ...   ...        ...  ...                   ...         ...      ...\n",
              "936865  2020-06-23    SP          1  ...             2471.0000      0.0000  Sudeste\n",
              "936866  2020-06-22    SP          1  ...             2471.0000      0.0000  Sudeste\n",
              "936867  2020-06-21    SP          1  ...             2471.0000      0.0000  Sudeste\n",
              "936868  2020-06-20    SP          1  ...             2471.0000      0.0000  Sudeste\n",
              "936869  2020-06-19    SP          1  ...             2471.0000      0.0000  Sudeste\n",
              "\n",
              "[276220 rows x 9 columns]"
            ]
          },
          "metadata": {
            "tags": []
          },
          "execution_count": 105
        }
      ]
    },
    {
      "cell_type": "code",
      "metadata": {
        "id": "I6b6JOaEzBBc",
        "colab": {
          "base_uri": "https://localhost:8080/"
        },
        "outputId": "e7937cec-f0cb-4c62-a030-2ea86c19847d"
      },
      "source": [
        "dadossudeste.info()"
      ],
      "execution_count": 106,
      "outputs": [
        {
          "output_type": "stream",
          "text": [
            "<class 'pandas.core.frame.DataFrame'>\n",
            "Int64Index: 276220 entries, 76251 to 936869\n",
            "Data columns (total 9 columns):\n",
            " #   Column                Non-Null Count   Dtype  \n",
            "---  ------                --------------   -----  \n",
            " 0   date                  276220 non-null  object \n",
            " 1   state                 276220 non-null  object \n",
            " 2   confirmed             276220 non-null  int64  \n",
            " 3   deaths                276220 non-null  int64  \n",
            " 4   order_for_place       276220 non-null  int64  \n",
            " 5   is_last               276220 non-null  bool   \n",
            " 6   estimated_population  275382 non-null  float64\n",
            " 7   death_rate            276220 non-null  float64\n",
            " 8   regiao                276220 non-null  object \n",
            "dtypes: bool(1), float64(2), int64(3), object(3)\n",
            "memory usage: 19.2+ MB\n"
          ],
          "name": "stdout"
        }
      ]
    },
    {
      "cell_type": "markdown",
      "metadata": {
        "id": "AmP6HT8q0PSY"
      },
      "source": [
        "- Tem poucos dados faltando, vou analisar a coluna para ver se preencho ou excluo essas linhas"
      ]
    },
    {
      "cell_type": "markdown",
      "metadata": {
        "id": "YSi6v8w833D3"
      },
      "source": [
        "- Lendo a documentação, vejo que essa coluna passa a população do estado **ou** do município.\n",
        "  - **Como apenas me interessa a população do estado, vou preencher todos as linhas dela com o valor máximo da coluna de cada estado pois será equivalente à população daquele estado.**"
      ]
    },
    {
      "cell_type": "markdown",
      "metadata": {
        "id": "PHhD9U6odYh6"
      },
      "source": [
        "- Vou botar a coluna \"state\" como index, para me ajudar"
      ]
    },
    {
      "cell_type": "code",
      "metadata": {
        "id": "PawQVoaW9GMf"
      },
      "source": [
        "dadossudeste.set_index(\"state\", inplace=True)"
      ],
      "execution_count": 107,
      "outputs": []
    },
    {
      "cell_type": "code",
      "metadata": {
        "colab": {
          "base_uri": "https://localhost:8080/",
          "height": 450
        },
        "id": "OJ4TNaSD_GfO",
        "outputId": "4e2f17c3-8b0a-4abb-8b43-70c6f3ea4f14"
      },
      "source": [
        "dadossudeste.loc[\"RJ\"]"
      ],
      "execution_count": 108,
      "outputs": [
        {
          "output_type": "execute_result",
          "data": {
            "text/html": [
              "<div>\n",
              "<style scoped>\n",
              "    .dataframe tbody tr th:only-of-type {\n",
              "        vertical-align: middle;\n",
              "    }\n",
              "\n",
              "    .dataframe tbody tr th {\n",
              "        vertical-align: top;\n",
              "    }\n",
              "\n",
              "    .dataframe thead th {\n",
              "        text-align: right;\n",
              "    }\n",
              "</style>\n",
              "<table border=\"1\" class=\"dataframe\">\n",
              "  <thead>\n",
              "    <tr style=\"text-align: right;\">\n",
              "      <th></th>\n",
              "      <th>date</th>\n",
              "      <th>confirmed</th>\n",
              "      <th>deaths</th>\n",
              "      <th>order_for_place</th>\n",
              "      <th>is_last</th>\n",
              "      <th>estimated_population</th>\n",
              "      <th>death_rate</th>\n",
              "      <th>regiao</th>\n",
              "    </tr>\n",
              "    <tr>\n",
              "      <th>state</th>\n",
              "      <th></th>\n",
              "      <th></th>\n",
              "      <th></th>\n",
              "      <th></th>\n",
              "      <th></th>\n",
              "      <th></th>\n",
              "      <th></th>\n",
              "      <th></th>\n",
              "    </tr>\n",
              "  </thead>\n",
              "  <tbody>\n",
              "    <tr>\n",
              "      <th>RJ</th>\n",
              "      <td>2020-11-05</td>\n",
              "      <td>313843</td>\n",
              "      <td>20849</td>\n",
              "      <td>236</td>\n",
              "      <td>True</td>\n",
              "      <td>17366189.0000</td>\n",
              "      <td>0.0664</td>\n",
              "      <td>Sudeste</td>\n",
              "    </tr>\n",
              "    <tr>\n",
              "      <th>RJ</th>\n",
              "      <td>2020-11-04</td>\n",
              "      <td>313089</td>\n",
              "      <td>20759</td>\n",
              "      <td>235</td>\n",
              "      <td>False</td>\n",
              "      <td>17366189.0000</td>\n",
              "      <td>0.0663</td>\n",
              "      <td>Sudeste</td>\n",
              "    </tr>\n",
              "    <tr>\n",
              "      <th>RJ</th>\n",
              "      <td>2020-11-03</td>\n",
              "      <td>313089</td>\n",
              "      <td>20651</td>\n",
              "      <td>234</td>\n",
              "      <td>False</td>\n",
              "      <td>17366189.0000</td>\n",
              "      <td>0.0660</td>\n",
              "      <td>Sudeste</td>\n",
              "    </tr>\n",
              "    <tr>\n",
              "      <th>RJ</th>\n",
              "      <td>2020-11-02</td>\n",
              "      <td>311308</td>\n",
              "      <td>20636</td>\n",
              "      <td>233</td>\n",
              "      <td>False</td>\n",
              "      <td>17366189.0000</td>\n",
              "      <td>0.0663</td>\n",
              "      <td>Sudeste</td>\n",
              "    </tr>\n",
              "    <tr>\n",
              "      <th>RJ</th>\n",
              "      <td>2020-11-01</td>\n",
              "      <td>311014</td>\n",
              "      <td>20611</td>\n",
              "      <td>232</td>\n",
              "      <td>False</td>\n",
              "      <td>17366189.0000</td>\n",
              "      <td>0.0663</td>\n",
              "      <td>Sudeste</td>\n",
              "    </tr>\n",
              "    <tr>\n",
              "      <th>...</th>\n",
              "      <td>...</td>\n",
              "      <td>...</td>\n",
              "      <td>...</td>\n",
              "      <td>...</td>\n",
              "      <td>...</td>\n",
              "      <td>...</td>\n",
              "      <td>...</td>\n",
              "      <td>...</td>\n",
              "    </tr>\n",
              "    <tr>\n",
              "      <th>RJ</th>\n",
              "      <td>2020-03-28</td>\n",
              "      <td>11</td>\n",
              "      <td>1</td>\n",
              "      <td>5</td>\n",
              "      <td>False</td>\n",
              "      <td>273988.0000</td>\n",
              "      <td>0.0909</td>\n",
              "      <td>Sudeste</td>\n",
              "    </tr>\n",
              "    <tr>\n",
              "      <th>RJ</th>\n",
              "      <td>2020-03-27</td>\n",
              "      <td>9</td>\n",
              "      <td>1</td>\n",
              "      <td>4</td>\n",
              "      <td>False</td>\n",
              "      <td>273988.0000</td>\n",
              "      <td>0.1111</td>\n",
              "      <td>Sudeste</td>\n",
              "    </tr>\n",
              "    <tr>\n",
              "      <th>RJ</th>\n",
              "      <td>2020-03-26</td>\n",
              "      <td>7</td>\n",
              "      <td>0</td>\n",
              "      <td>3</td>\n",
              "      <td>False</td>\n",
              "      <td>273988.0000</td>\n",
              "      <td>0.0000</td>\n",
              "      <td>Sudeste</td>\n",
              "    </tr>\n",
              "    <tr>\n",
              "      <th>RJ</th>\n",
              "      <td>2020-03-25</td>\n",
              "      <td>6</td>\n",
              "      <td>0</td>\n",
              "      <td>2</td>\n",
              "      <td>False</td>\n",
              "      <td>273988.0000</td>\n",
              "      <td>0.0000</td>\n",
              "      <td>Sudeste</td>\n",
              "    </tr>\n",
              "    <tr>\n",
              "      <th>RJ</th>\n",
              "      <td>2020-03-24</td>\n",
              "      <td>4</td>\n",
              "      <td>0</td>\n",
              "      <td>1</td>\n",
              "      <td>False</td>\n",
              "      <td>273988.0000</td>\n",
              "      <td>0.0000</td>\n",
              "      <td>Sudeste</td>\n",
              "    </tr>\n",
              "  </tbody>\n",
              "</table>\n",
              "<p>18646 rows × 8 columns</p>\n",
              "</div>"
            ],
            "text/plain": [
              "             date  confirmed  deaths  ...  estimated_population  death_rate   regiao\n",
              "state                                 ...                                           \n",
              "RJ     2020-11-05     313843   20849  ...         17366189.0000      0.0664  Sudeste\n",
              "RJ     2020-11-04     313089   20759  ...         17366189.0000      0.0663  Sudeste\n",
              "RJ     2020-11-03     313089   20651  ...         17366189.0000      0.0660  Sudeste\n",
              "RJ     2020-11-02     311308   20636  ...         17366189.0000      0.0663  Sudeste\n",
              "RJ     2020-11-01     311014   20611  ...         17366189.0000      0.0663  Sudeste\n",
              "...           ...        ...     ...  ...                   ...         ...      ...\n",
              "RJ     2020-03-28         11       1  ...           273988.0000      0.0909  Sudeste\n",
              "RJ     2020-03-27          9       1  ...           273988.0000      0.1111  Sudeste\n",
              "RJ     2020-03-26          7       0  ...           273988.0000      0.0000  Sudeste\n",
              "RJ     2020-03-25          6       0  ...           273988.0000      0.0000  Sudeste\n",
              "RJ     2020-03-24          4       0  ...           273988.0000      0.0000  Sudeste\n",
              "\n",
              "[18646 rows x 8 columns]"
            ]
          },
          "metadata": {
            "tags": []
          },
          "execution_count": 108
        }
      ]
    },
    {
      "cell_type": "code",
      "metadata": {
        "colab": {
          "base_uri": "https://localhost:8080/"
        },
        "id": "GbtE1kgIWCd_",
        "outputId": "a6469859-91ed-4353-990f-42ba3b2768b1"
      },
      "source": [
        "max(dadossudeste.loc[\"RJ\", \"estimated_population\"])"
      ],
      "execution_count": 109,
      "outputs": [
        {
          "output_type": "execute_result",
          "data": {
            "text/plain": [
              "17366189.0"
            ]
          },
          "metadata": {
            "tags": []
          },
          "execution_count": 109
        }
      ]
    },
    {
      "cell_type": "code",
      "metadata": {
        "colab": {
          "base_uri": "https://localhost:8080/"
        },
        "id": "RsiR0jy7WYD4",
        "outputId": "e25e78cf-287a-427e-a074-a8fb78ad43b3"
      },
      "source": [
        "dadossudeste.loc[\"RJ\", \"estimated_population\"][0]"
      ],
      "execution_count": 110,
      "outputs": [
        {
          "output_type": "execute_result",
          "data": {
            "text/plain": [
              "17366189.0"
            ]
          },
          "metadata": {
            "tags": []
          },
          "execution_count": 110
        }
      ]
    },
    {
      "cell_type": "code",
      "metadata": {
        "id": "jlD_hUTpblkM"
      },
      "source": [
        "dadossudeste = dadossudeste.copy() #para não receber o SettingWithCopyWarning\n",
        "for i in sudeste:\n",
        "  dadossudeste.loc[i, \"estimated_population\"] = max(dadossudeste.loc[i, \"estimated_population\"])"
      ],
      "execution_count": 111,
      "outputs": []
    },
    {
      "cell_type": "code",
      "metadata": {
        "colab": {
          "base_uri": "https://localhost:8080/"
        },
        "id": "3eoTOWWM7WNr",
        "outputId": "d9bcc5d6-5987-4964-ba2c-2afb1f21c33c"
      },
      "source": [
        "dadossudeste.loc[\"RJ\", \"estimated_population\"]"
      ],
      "execution_count": 112,
      "outputs": [
        {
          "output_type": "execute_result",
          "data": {
            "text/plain": [
              "state\n",
              "RJ   17366189.0000\n",
              "RJ   17366189.0000\n",
              "RJ   17366189.0000\n",
              "RJ   17366189.0000\n",
              "RJ   17366189.0000\n",
              "          ...     \n",
              "RJ   17366189.0000\n",
              "RJ   17366189.0000\n",
              "RJ   17366189.0000\n",
              "RJ   17366189.0000\n",
              "RJ   17366189.0000\n",
              "Name: estimated_population, Length: 18646, dtype: float64"
            ]
          },
          "metadata": {
            "tags": []
          },
          "execution_count": 112
        }
      ]
    },
    {
      "cell_type": "code",
      "metadata": {
        "id": "5BaKe69i8vMX",
        "colab": {
          "base_uri": "https://localhost:8080/"
        },
        "outputId": "dddadaaf-b65c-4aff-e67f-7ad2d4d5f943"
      },
      "source": [
        "dadossudeste.info()"
      ],
      "execution_count": 113,
      "outputs": [
        {
          "output_type": "stream",
          "text": [
            "<class 'pandas.core.frame.DataFrame'>\n",
            "Index: 276220 entries, ES to SP\n",
            "Data columns (total 8 columns):\n",
            " #   Column                Non-Null Count   Dtype  \n",
            "---  ------                --------------   -----  \n",
            " 0   date                  276220 non-null  object \n",
            " 1   confirmed             276220 non-null  int64  \n",
            " 2   deaths                276220 non-null  int64  \n",
            " 3   order_for_place       276220 non-null  int64  \n",
            " 4   is_last               276220 non-null  bool   \n",
            " 5   estimated_population  276220 non-null  float64\n",
            " 6   death_rate            276220 non-null  float64\n",
            " 7   regiao                276220 non-null  object \n",
            "dtypes: bool(1), float64(2), int64(3), object(2)\n",
            "memory usage: 27.1+ MB\n"
          ],
          "name": "stdout"
        }
      ]
    },
    {
      "cell_type": "markdown",
      "metadata": {
        "id": "lxkADL80y5qb"
      },
      "source": [
        "* Vou criar uma coluna com a razão entre casos confirmados e a população estimada no estado"
      ]
    },
    {
      "cell_type": "code",
      "metadata": {
        "id": "Dw2B0_86ilwb"
      },
      "source": [
        "taxacasos = []\n",
        "for i in range(len(dadossudeste)):\n",
        "  taxa = dadossudeste[\"confirmed\"][i]/dadossudeste[\"estimated_population\"][i]\n",
        "  taxacasos.append(taxa)"
      ],
      "execution_count": 114,
      "outputs": []
    },
    {
      "cell_type": "code",
      "metadata": {
        "id": "mVLF10j10S0P"
      },
      "source": [
        "dadossudeste[\"taxacasos\"] = taxacasos"
      ],
      "execution_count": 115,
      "outputs": []
    },
    {
      "cell_type": "code",
      "metadata": {
        "colab": {
          "base_uri": "https://localhost:8080/",
          "height": 450
        },
        "id": "nrN-0lpK0XK0",
        "outputId": "3d713da1-4bc9-4a41-862f-438d7903241f"
      },
      "source": [
        "dadossudeste"
      ],
      "execution_count": 116,
      "outputs": [
        {
          "output_type": "execute_result",
          "data": {
            "text/html": [
              "<div>\n",
              "<style scoped>\n",
              "    .dataframe tbody tr th:only-of-type {\n",
              "        vertical-align: middle;\n",
              "    }\n",
              "\n",
              "    .dataframe tbody tr th {\n",
              "        vertical-align: top;\n",
              "    }\n",
              "\n",
              "    .dataframe thead th {\n",
              "        text-align: right;\n",
              "    }\n",
              "</style>\n",
              "<table border=\"1\" class=\"dataframe\">\n",
              "  <thead>\n",
              "    <tr style=\"text-align: right;\">\n",
              "      <th></th>\n",
              "      <th>date</th>\n",
              "      <th>confirmed</th>\n",
              "      <th>deaths</th>\n",
              "      <th>order_for_place</th>\n",
              "      <th>is_last</th>\n",
              "      <th>estimated_population</th>\n",
              "      <th>death_rate</th>\n",
              "      <th>regiao</th>\n",
              "      <th>taxacasos</th>\n",
              "    </tr>\n",
              "    <tr>\n",
              "      <th>state</th>\n",
              "      <th></th>\n",
              "      <th></th>\n",
              "      <th></th>\n",
              "      <th></th>\n",
              "      <th></th>\n",
              "      <th></th>\n",
              "      <th></th>\n",
              "      <th></th>\n",
              "      <th></th>\n",
              "    </tr>\n",
              "  </thead>\n",
              "  <tbody>\n",
              "    <tr>\n",
              "      <th>ES</th>\n",
              "      <td>2020-11-05</td>\n",
              "      <td>159813</td>\n",
              "      <td>3896</td>\n",
              "      <td>245</td>\n",
              "      <td>True</td>\n",
              "      <td>4064052.0000</td>\n",
              "      <td>0.0244</td>\n",
              "      <td>Sudeste</td>\n",
              "      <td>0.0393</td>\n",
              "    </tr>\n",
              "    <tr>\n",
              "      <th>ES</th>\n",
              "      <td>2020-11-04</td>\n",
              "      <td>158768</td>\n",
              "      <td>3884</td>\n",
              "      <td>244</td>\n",
              "      <td>False</td>\n",
              "      <td>4064052.0000</td>\n",
              "      <td>0.0245</td>\n",
              "      <td>Sudeste</td>\n",
              "      <td>0.0391</td>\n",
              "    </tr>\n",
              "    <tr>\n",
              "      <th>ES</th>\n",
              "      <td>2020-11-03</td>\n",
              "      <td>157750</td>\n",
              "      <td>3876</td>\n",
              "      <td>243</td>\n",
              "      <td>False</td>\n",
              "      <td>4064052.0000</td>\n",
              "      <td>0.0246</td>\n",
              "      <td>Sudeste</td>\n",
              "      <td>0.0388</td>\n",
              "    </tr>\n",
              "    <tr>\n",
              "      <th>ES</th>\n",
              "      <td>2020-11-02</td>\n",
              "      <td>156681</td>\n",
              "      <td>3863</td>\n",
              "      <td>242</td>\n",
              "      <td>False</td>\n",
              "      <td>4064052.0000</td>\n",
              "      <td>0.0247</td>\n",
              "      <td>Sudeste</td>\n",
              "      <td>0.0386</td>\n",
              "    </tr>\n",
              "    <tr>\n",
              "      <th>ES</th>\n",
              "      <td>2020-11-01</td>\n",
              "      <td>156018</td>\n",
              "      <td>3862</td>\n",
              "      <td>241</td>\n",
              "      <td>False</td>\n",
              "      <td>4064052.0000</td>\n",
              "      <td>0.0248</td>\n",
              "      <td>Sudeste</td>\n",
              "      <td>0.0384</td>\n",
              "    </tr>\n",
              "    <tr>\n",
              "      <th>...</th>\n",
              "      <td>...</td>\n",
              "      <td>...</td>\n",
              "      <td>...</td>\n",
              "      <td>...</td>\n",
              "      <td>...</td>\n",
              "      <td>...</td>\n",
              "      <td>...</td>\n",
              "      <td>...</td>\n",
              "      <td>...</td>\n",
              "    </tr>\n",
              "    <tr>\n",
              "      <th>SP</th>\n",
              "      <td>2020-06-23</td>\n",
              "      <td>1</td>\n",
              "      <td>0</td>\n",
              "      <td>5</td>\n",
              "      <td>False</td>\n",
              "      <td>46289333.0000</td>\n",
              "      <td>0.0000</td>\n",
              "      <td>Sudeste</td>\n",
              "      <td>0.0000</td>\n",
              "    </tr>\n",
              "    <tr>\n",
              "      <th>SP</th>\n",
              "      <td>2020-06-22</td>\n",
              "      <td>1</td>\n",
              "      <td>0</td>\n",
              "      <td>4</td>\n",
              "      <td>False</td>\n",
              "      <td>46289333.0000</td>\n",
              "      <td>0.0000</td>\n",
              "      <td>Sudeste</td>\n",
              "      <td>0.0000</td>\n",
              "    </tr>\n",
              "    <tr>\n",
              "      <th>SP</th>\n",
              "      <td>2020-06-21</td>\n",
              "      <td>1</td>\n",
              "      <td>0</td>\n",
              "      <td>3</td>\n",
              "      <td>False</td>\n",
              "      <td>46289333.0000</td>\n",
              "      <td>0.0000</td>\n",
              "      <td>Sudeste</td>\n",
              "      <td>0.0000</td>\n",
              "    </tr>\n",
              "    <tr>\n",
              "      <th>SP</th>\n",
              "      <td>2020-06-20</td>\n",
              "      <td>1</td>\n",
              "      <td>0</td>\n",
              "      <td>2</td>\n",
              "      <td>False</td>\n",
              "      <td>46289333.0000</td>\n",
              "      <td>0.0000</td>\n",
              "      <td>Sudeste</td>\n",
              "      <td>0.0000</td>\n",
              "    </tr>\n",
              "    <tr>\n",
              "      <th>SP</th>\n",
              "      <td>2020-06-19</td>\n",
              "      <td>1</td>\n",
              "      <td>0</td>\n",
              "      <td>1</td>\n",
              "      <td>False</td>\n",
              "      <td>46289333.0000</td>\n",
              "      <td>0.0000</td>\n",
              "      <td>Sudeste</td>\n",
              "      <td>0.0000</td>\n",
              "    </tr>\n",
              "  </tbody>\n",
              "</table>\n",
              "<p>276220 rows × 9 columns</p>\n",
              "</div>"
            ],
            "text/plain": [
              "             date  confirmed  deaths  ...  death_rate   regiao  taxacasos\n",
              "state                                 ...                                \n",
              "ES     2020-11-05     159813    3896  ...      0.0244  Sudeste     0.0393\n",
              "ES     2020-11-04     158768    3884  ...      0.0245  Sudeste     0.0391\n",
              "ES     2020-11-03     157750    3876  ...      0.0246  Sudeste     0.0388\n",
              "ES     2020-11-02     156681    3863  ...      0.0247  Sudeste     0.0386\n",
              "ES     2020-11-01     156018    3862  ...      0.0248  Sudeste     0.0384\n",
              "...           ...        ...     ...  ...         ...      ...        ...\n",
              "SP     2020-06-23          1       0  ...      0.0000  Sudeste     0.0000\n",
              "SP     2020-06-22          1       0  ...      0.0000  Sudeste     0.0000\n",
              "SP     2020-06-21          1       0  ...      0.0000  Sudeste     0.0000\n",
              "SP     2020-06-20          1       0  ...      0.0000  Sudeste     0.0000\n",
              "SP     2020-06-19          1       0  ...      0.0000  Sudeste     0.0000\n",
              "\n",
              "[276220 rows x 9 columns]"
            ]
          },
          "metadata": {
            "tags": []
          },
          "execution_count": 116
        }
      ]
    },
    {
      "cell_type": "code",
      "metadata": {
        "colab": {
          "base_uri": "https://localhost:8080/",
          "height": 204
        },
        "id": "OckeUJKm3UbM",
        "outputId": "5dfdc0d2-5cef-4b5f-ac2a-022cb87670c7"
      },
      "source": [
        "dadossudeste[dadossudeste[\"date\"] == \"2020-11-05\"].head(4)"
      ],
      "execution_count": 117,
      "outputs": [
        {
          "output_type": "execute_result",
          "data": {
            "text/html": [
              "<div>\n",
              "<style scoped>\n",
              "    .dataframe tbody tr th:only-of-type {\n",
              "        vertical-align: middle;\n",
              "    }\n",
              "\n",
              "    .dataframe tbody tr th {\n",
              "        vertical-align: top;\n",
              "    }\n",
              "\n",
              "    .dataframe thead th {\n",
              "        text-align: right;\n",
              "    }\n",
              "</style>\n",
              "<table border=\"1\" class=\"dataframe\">\n",
              "  <thead>\n",
              "    <tr style=\"text-align: right;\">\n",
              "      <th></th>\n",
              "      <th>date</th>\n",
              "      <th>confirmed</th>\n",
              "      <th>deaths</th>\n",
              "      <th>order_for_place</th>\n",
              "      <th>is_last</th>\n",
              "      <th>estimated_population</th>\n",
              "      <th>death_rate</th>\n",
              "      <th>regiao</th>\n",
              "      <th>taxacasos</th>\n",
              "    </tr>\n",
              "    <tr>\n",
              "      <th>state</th>\n",
              "      <th></th>\n",
              "      <th></th>\n",
              "      <th></th>\n",
              "      <th></th>\n",
              "      <th></th>\n",
              "      <th></th>\n",
              "      <th></th>\n",
              "      <th></th>\n",
              "      <th></th>\n",
              "    </tr>\n",
              "  </thead>\n",
              "  <tbody>\n",
              "    <tr>\n",
              "      <th>ES</th>\n",
              "      <td>2020-11-05</td>\n",
              "      <td>159813</td>\n",
              "      <td>3896</td>\n",
              "      <td>245</td>\n",
              "      <td>True</td>\n",
              "      <td>4064052.0000</td>\n",
              "      <td>0.0244</td>\n",
              "      <td>Sudeste</td>\n",
              "      <td>0.0393</td>\n",
              "    </tr>\n",
              "    <tr>\n",
              "      <th>MG</th>\n",
              "      <td>2020-11-05</td>\n",
              "      <td>364541</td>\n",
              "      <td>9128</td>\n",
              "      <td>241</td>\n",
              "      <td>True</td>\n",
              "      <td>21292666.0000</td>\n",
              "      <td>0.0250</td>\n",
              "      <td>Sudeste</td>\n",
              "      <td>0.0171</td>\n",
              "    </tr>\n",
              "    <tr>\n",
              "      <th>RJ</th>\n",
              "      <td>2020-11-05</td>\n",
              "      <td>313843</td>\n",
              "      <td>20849</td>\n",
              "      <td>236</td>\n",
              "      <td>True</td>\n",
              "      <td>17366189.0000</td>\n",
              "      <td>0.0664</td>\n",
              "      <td>Sudeste</td>\n",
              "      <td>0.0181</td>\n",
              "    </tr>\n",
              "    <tr>\n",
              "      <th>SP</th>\n",
              "      <td>2020-11-05</td>\n",
              "      <td>1125936</td>\n",
              "      <td>39717</td>\n",
              "      <td>253</td>\n",
              "      <td>True</td>\n",
              "      <td>46289333.0000</td>\n",
              "      <td>0.0353</td>\n",
              "      <td>Sudeste</td>\n",
              "      <td>0.0243</td>\n",
              "    </tr>\n",
              "  </tbody>\n",
              "</table>\n",
              "</div>"
            ],
            "text/plain": [
              "             date  confirmed  deaths  ...  death_rate   regiao  taxacasos\n",
              "state                                 ...                                \n",
              "ES     2020-11-05     159813    3896  ...      0.0244  Sudeste     0.0393\n",
              "MG     2020-11-05     364541    9128  ...      0.0250  Sudeste     0.0171\n",
              "RJ     2020-11-05     313843   20849  ...      0.0664  Sudeste     0.0181\n",
              "SP     2020-11-05    1125936   39717  ...      0.0353  Sudeste     0.0243\n",
              "\n",
              "[4 rows x 9 columns]"
            ]
          },
          "metadata": {
            "tags": []
          },
          "execution_count": 117
        }
      ]
    },
    {
      "cell_type": "markdown",
      "metadata": {
        "id": "4wiPObm0Wjsd"
      },
      "source": [
        "# VIsualizando graficamente"
      ]
    },
    {
      "cell_type": "code",
      "metadata": {
        "colab": {
          "base_uri": "https://localhost:8080/",
          "height": 677
        },
        "id": "7cMIamKh05fl",
        "outputId": "658f58bc-e761-4c2a-d11d-047d466425ae"
      },
      "source": [
        "plt.figure(figsize=(10,10))\n",
        "sns.set_style(\"whitegrid\")\n",
        "sns.barplot(dadossudeste[dadossudeste[\"date\"] == \"2020-11-05\"].head(4)[\"taxacasos\"].index, dadossudeste[dadossudeste[\"date\"] == \"2020-11-05\"].head(4)[\"taxacasos\"])"
      ],
      "execution_count": 118,
      "outputs": [
        {
          "output_type": "stream",
          "text": [
            "/usr/local/lib/python3.7/dist-packages/seaborn/_decorators.py:43: FutureWarning: Pass the following variables as keyword args: x, y. From version 0.12, the only valid positional argument will be `data`, and passing other arguments without an explicit keyword will result in an error or misinterpretation.\n",
            "  FutureWarning\n"
          ],
          "name": "stderr"
        },
        {
          "output_type": "execute_result",
          "data": {
            "text/plain": [
              "<matplotlib.axes._subplots.AxesSubplot at 0x7f93878826d0>"
            ]
          },
          "metadata": {
            "tags": []
          },
          "execution_count": 118
        },
        {
          "output_type": "display_data",
          "data": {
            "image/png": "[encoded data removed]",
            "text/plain": [
              "<Figure size 720x720 with 1 Axes>"
            ]
          },
          "metadata": {
            "tags": [],
            "needs_background": "light"
          }
        }
      ]
    },
    {
      "cell_type": "markdown",
      "metadata": {
        "id": "kumrjXIYHKu3"
      },
      "source": [
        "- Observa-se que no Espírito Santo teve, até o dia 5/11/2020, a maior taxa de casos"
      ]
    },
    {
      "cell_type": "code",
      "metadata": {
        "colab": {
          "base_uri": "https://localhost:8080/",
          "height": 677
        },
        "id": "J5PqsFwaIQ2B",
        "outputId": "09d5f166-75cc-4052-f244-a858903aadda"
      },
      "source": [
        "plt.figure(figsize=(10,10))\n",
        "sns.set_style(\"whitegrid\")\n",
        "sns.barplot(dadossudeste[dadossudeste[\"date\"] == \"2020-11-05\"].head(4)[\"death_rate\"].index, dadossudeste[dadossudeste[\"date\"] == \"2020-11-05\"].head(4)[\"death_rate\"])"
      ],
      "execution_count": 119,
      "outputs": [
        {
          "output_type": "stream",
          "text": [
            "/usr/local/lib/python3.7/dist-packages/seaborn/_decorators.py:43: FutureWarning: Pass the following variables as keyword args: x, y. From version 0.12, the only valid positional argument will be `data`, and passing other arguments without an explicit keyword will result in an error or misinterpretation.\n",
            "  FutureWarning\n"
          ],
          "name": "stderr"
        },
        {
          "output_type": "execute_result",
          "data": {
            "text/plain": [
              "<matplotlib.axes._subplots.AxesSubplot at 0x7f9387786690>"
            ]
          },
          "metadata": {
            "tags": []
          },
          "execution_count": 119
        },
        {
          "output_type": "display_data",
          "data": {
            "image/png": "[encoded data removed]",
            "text/plain": [
              "<Figure size 720x720 with 1 Axes>"
            ]
          },
          "metadata": {
            "tags": []
          }
        }
      ]
    },
    {
      "cell_type": "markdown",
      "metadata": {
        "id": "dsgP4xsbI93t"
      },
      "source": [
        "- **Porém foi no Rio de Janeiro que concretizou, até o dia 5/11/2020, a maior taxa de mortes, superando por muito os outros estados do sudeste**"
      ]
    },
    {
      "cell_type": "code",
      "metadata": {
        "colab": {
          "base_uri": "https://localhost:8080/"
        },
        "id": "pUrT-OA3KIiC",
        "outputId": "43caf9ce-fb5b-4608-cee4-258fd2989eb4"
      },
      "source": [
        "dadossudeste[dadossudeste[\"date\"] == \"2020-11-05\"].head(4)[\"death_rate\"]"
      ],
      "execution_count": 120,
      "outputs": [
        {
          "output_type": "execute_result",
          "data": {
            "text/plain": [
              "state\n",
              "ES   0.0244\n",
              "MG   0.0250\n",
              "RJ   0.0664\n",
              "SP   0.0353\n",
              "Name: death_rate, dtype: float64"
            ]
          },
          "metadata": {
            "tags": []
          },
          "execution_count": 120
        }
      ]
    },
    {
      "cell_type": "code",
      "metadata": {
        "id": "QpcV-T_vIwwR"
      },
      "source": [
        "[taxamorteES, taxamorteMG, taxamorteRJ, taxamorteSP] = dadossudeste[dadossudeste[\"date\"] == \"2020-11-05\"].head(4)[\"death_rate\"]"
      ],
      "execution_count": 121,
      "outputs": []
    },
    {
      "cell_type": "markdown",
      "metadata": {
        "id": "JKu0_2OiKNZ-"
      },
      "source": [
        "* ***No Espírito Santo obteve-se a menor taxa de mortes, portanto vou usar a taxa desse estado para realizar uma comparação com os outros estados da região***"
      ]
    },
    {
      "cell_type": "code",
      "metadata": {
        "id": "x10zWuEFJTTf"
      },
      "source": [
        "taxasmortes = [taxamorteES, taxamorteMG, taxamorteRJ, taxamorteSP]"
      ],
      "execution_count": 122,
      "outputs": []
    },
    {
      "cell_type": "code",
      "metadata": {
        "id": "n3egE51yKDMW"
      },
      "source": [
        "razoestaxa = []\n",
        "for i in range(1,len(taxasmortes)):\n",
        "  razaotaxa = taxasmortes[i]/taxasmortes[0]\n",
        "  razoestaxa.append(razaotaxa)"
      ],
      "execution_count": 123,
      "outputs": []
    },
    {
      "cell_type": "code",
      "metadata": {
        "colab": {
          "base_uri": "https://localhost:8080/"
        },
        "id": "0a4XQOzlLeZi",
        "outputId": "2dcc895b-0c12-4740-861f-778025f75c29"
      },
      "source": [
        "razoestaxa"
      ],
      "execution_count": 124,
      "outputs": [
        {
          "output_type": "execute_result",
          "data": {
            "text/plain": [
              "[1.0245901639344261, 2.721311475409836, 1.4467213114754096]"
            ]
          },
          "metadata": {
            "tags": []
          },
          "execution_count": 124
        }
      ]
    },
    {
      "cell_type": "markdown",
      "metadata": {
        "id": "wczUVP9SOl8c"
      },
      "source": [
        "# Conclusão"
      ]
    },
    {
      "cell_type": "markdown",
      "metadata": {
        "id": "g7s-LTbYNXfG"
      },
      "source": [
        "- A taxa de morte em Minas Gerais foi 2,46% maior do que no Espírito Santo\n",
        "- A taxa de morte no Rio de Janeiro foi 172,13% maior do que no Espírito Santo\n",
        "- A taxa de morte em São Paulo foi 44,67% maior do que no Espírito Santo"
      ]
    },
    {
      "cell_type": "code",
      "metadata": {
        "colab": {
          "base_uri": "https://localhost:8080/"
        },
        "id": "HHKDFuvAOyg9",
        "outputId": "53376e45-ff0b-4903-e0ac-dfe2b667a6d7"
      },
      "source": [
        "dadossudeste[dadossudeste[\"date\"] == \"2020-11-05\"].head(4)[\"estimated_population\"]"
      ],
      "execution_count": 125,
      "outputs": [
        {
          "output_type": "execute_result",
          "data": {
            "text/plain": [
              "state\n",
              "ES    4064052.0000\n",
              "MG   21292666.0000\n",
              "RJ   17366189.0000\n",
              "SP   46289333.0000\n",
              "Name: estimated_population, dtype: float64"
            ]
          },
          "metadata": {
            "tags": []
          },
          "execution_count": 125
        }
      ]
    },
    {
      "cell_type": "markdown",
      "metadata": {
        "id": "ulgPaQqxOpjR"
      },
      "source": [
        "*Observando as taxas de casos e mortes e a população de cada estado, concluímos que:*"
      ]
    },
    {
      "cell_type": "markdown",
      "metadata": {
        "id": "3L0QDsMFQrY1"
      },
      "source": [
        "- Talvez pudéssemos enxergar alguma correlação entre o tamanho da população e as taxas, porém isso não aconteceu"
      ]
    },
    {
      "cell_type": "markdown",
      "metadata": {
        "id": "jcELOcEYRCBs"
      },
      "source": [
        "- Espírito Santo teve a maior taxa de casos, a menor taxa de mortes e também tem a menor população. Por ser um estado pequeno e pouco populoso, era de se esperar uma maior taxa de casos, porém nao foi acompanhada de uma alta taxa de mortes, talvez por ser mais fácil de estruturar uma segurança sanitária para a pequena população."
      ]
    },
    {
      "cell_type": "markdown",
      "metadata": {
        "id": "aDGNDLSYTQhY"
      },
      "source": [
        "- No Rio de Janeiro a taxa de mortes foi consideravelmente superior a dos outros estados (6,64% das pessoas contaminadas e registradas, faleceram). Talvez por ser um estado com maiores problemas a se resolver no âmbito sanitário, com hospitais superlotados e precários."
      ]
    },
    {
      "cell_type": "markdown",
      "metadata": {
        "id": "DEX383haT1mU"
      },
      "source": [
        "- Em Minas Gerais viu-se a menor taxa de casos e uma taxa de mortes igualmente baixa, em relação aos outros estados. Foi o estado do sudeste que respondeu melhor ao vírus, tendo em vista o tamanho da população. Vale notar que é o único estado que não encontra o mar, tendo grande parte características rurais."
      ]
    },
    {
      "cell_type": "markdown",
      "metadata": {
        "id": "Fru8a5XMUv1Z"
      },
      "source": [
        "- São Paulo, tendo a maior população do sudeste (mais que o dobro do segundo colocado, Minas Gerais), teve a segunda maior taxa de casos e de mortes. Tem uma economia muito ativa, com muitas pessoas de outros estados e países circulando, o que pode ter lhe conferido altas taxas, porém a sua estrutura impossibilitou que sua situação se tornasse pior do que a do Rio de Janeiro (que teve uma taxa de mortes de quase o dobro da de São Paulo), que também vive grande circulação de pessoas, principalmente na capital."
      ]
    },
    {
      "cell_type": "code",
      "metadata": {
        "id": "hwflSaUBTMnU"
      },
      "source": [
        ""
      ],
      "execution_count": 125,
      "outputs": []
    }
  ]
}